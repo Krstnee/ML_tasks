{
  "cells": [
    {
      "cell_type": "code",
      "execution_count": null,
      "metadata": {
        "colab": {
          "base_uri": "https://localhost:8080/"
        },
        "id": "XtFQP3RNll3c",
        "outputId": "ef65051e-9af7-4f41-f52c-b769b9b1a036"
      },
      "outputs": [
        {
          "name": "stderr",
          "output_type": "stream",
          "text": [
            "[nltk_data] Downloading package punkt to\n",
            "[nltk_data]     C:\\Users\\Nikita\\AppData\\Roaming\\nltk_data...\n",
            "[nltk_data]   Package punkt is already up-to-date!\n"
          ]
        },
        {
          "data": {
            "text/plain": [
              "True"
            ]
          },
          "execution_count": 1,
          "metadata": {},
          "output_type": "execute_result"
        }
      ],
      "source": [
        "import re\n",
        "import nltk\n",
        "\n",
        "import torch\n",
        "from torch.utils.data import Dataset, DataLoader\n",
        "import torch.nn as nn\n",
        "import torch.optim as optim\n",
        "\n",
        "import pandas as pd\n",
        "from sklearn.model_selection import train_test_split\n",
        "from sklearn.metrics import accuracy_score\n",
        "from nltk.tokenize import word_tokenize\n",
        "from sklearn.preprocessing import LabelEncoder\n",
        "from sklearn.metrics import confusion_matrix, classification_report, roc_auc_score\n",
        "nltk.download('punkt')"
      ]
    },
    {
      "cell_type": "markdown",
      "metadata": {
        "id": "tx75RigN8xIJ"
      },
      "source": [
        "## 1. Представление и предобработка текстовых данных в виде последовательностей"
      ]
    },
    {
      "cell_type": "markdown",
      "metadata": {
        "id": "LScKIAey9dAM"
      },
      "source": [
        "1.1 Представьте первое предложение из строки `text` как последовательность из индексов слов, входящих в это предложение"
      ]
    },
    {
      "cell_type": "code",
      "execution_count": null,
      "metadata": {
        "id": "phEw721T9SYW"
      },
      "outputs": [],
      "source": [
        "text = 'Select your preferences and run the install command. Stable represents the most currently tested and supported version of PyTorch. Note that LibTorch is only available for C++'"
      ]
    },
    {
      "cell_type": "code",
      "execution_count": null,
      "metadata": {
        "id": "MrquRTTZUxQS",
        "outputId": "bcc4b697-02e8-4e84-8e01-b7740c46c49b"
      },
      "outputs": [
        {
          "data": {
            "text/plain": [
              "{'libtorch': 0,\n",
              " 'and': 1,\n",
              " 'version': 2,\n",
              " 'available': 3,\n",
              " 'pytorch': 4,\n",
              " 'tested': 5,\n",
              " 'currently': 6,\n",
              " 'of': 7,\n",
              " 'supported': 8,\n",
              " 'stable': 9,\n",
              " 'note': 10,\n",
              " 'install': 11,\n",
              " 'preferences': 12,\n",
              " 'run': 13,\n",
              " 'only': 14,\n",
              " 'the': 15,\n",
              " 'command': 16,\n",
              " 'c++': 17,\n",
              " 'is': 18,\n",
              " 'that': 19,\n",
              " 'most': 20,\n",
              " 'for': 21,\n",
              " 'represents': 22,\n",
              " 'select': 23,\n",
              " 'your': 24}"
            ]
          },
          "execution_count": 3,
          "metadata": {},
          "output_type": "execute_result"
        }
      ],
      "source": [
        "sub = re.compile(\"[A-Za-z]+\")\n",
        "text_words = set(word for word in nltk.word_tokenize(text.lower()) if sub.search(word))\n",
        "ind_to_word = dict(enumerate(text_words))\n",
        "word_to_ind = {j:i for i,j in ind_to_word.items()}\n",
        "word_to_ind"
      ]
    },
    {
      "cell_type": "code",
      "execution_count": null,
      "metadata": {
        "colab": {
          "base_uri": "https://localhost:8080/"
        },
        "id": "nje3DVCNmyln",
        "outputId": "9200f4f3-71db-4da1-aa02-5f186484aebe"
      },
      "outputs": [
        {
          "data": {
            "text/plain": [
              "['select', 'your', 'preferences', 'and', 'run', 'the', 'install', 'command']"
            ]
          },
          "execution_count": 4,
          "metadata": {},
          "output_type": "execute_result"
        }
      ],
      "source": [
        "fs = 'Select your preferences and run the install command'\n",
        "fs = fs.lower()\n",
        "fs = nltk.word_tokenize(fs)\n",
        "fs"
      ]
    },
    {
      "cell_type": "code",
      "execution_count": null,
      "metadata": {
        "colab": {
          "base_uri": "https://localhost:8080/"
        },
        "id": "EY_qM8wZoCFm",
        "outputId": "852a9d53-ec9a-4e99-bcf9-fc04d99f7c0a"
      },
      "outputs": [
        {
          "data": {
            "text/plain": [
              "tensor([23., 24., 12.,  1., 13., 15., 11., 16.])"
            ]
          },
          "execution_count": 5,
          "metadata": {},
          "output_type": "execute_result"
        }
      ],
      "source": [
        "fs_vect = torch.zeros(len(fs))\n",
        "for i,word in enumerate(fs):\n",
        "    fs_vect[i] = word_to_ind[word]\n",
        "fs_vect"
      ]
    },
    {
      "cell_type": "markdown",
      "metadata": {
        "id": "pSFQCPtD9x5J"
      },
      "source": [
        "1.2 Представьте первое предложение из строки `text` как последовательность векторов, соответствующих индексам слов. Для представления индекса в виде вектора используйте унитарное кодирование. В результате должен получиться двумерный тензор размера `количество слов в предложении` x `количество уникальных слов`"
      ]
    },
    {
      "cell_type": "code",
      "execution_count": null,
      "metadata": {
        "id": "RZS4XLV0-buf"
      },
      "outputs": [],
      "source": [
        "text = 'Select your preferences and run the install command. Stable represents the most currently tested and supported version of PyTorch. Note that LibTorch is only available for C++'"
      ]
    },
    {
      "cell_type": "code",
      "execution_count": null,
      "metadata": {
        "id": "RIvX07DXUxQU",
        "outputId": "2d5ce395-8060-4c17-e854-66ccf05a97d1"
      },
      "outputs": [
        {
          "data": {
            "text/plain": [
              "tensor([[0., 0., 0., 0., 0., 0., 0., 0., 0., 0., 0., 0., 0., 0., 0., 0., 0., 0.,\n",
              "         0., 0., 0., 0., 0., 1., 0.],\n",
              "        [0., 0., 0., 0., 0., 0., 0., 0., 0., 0., 0., 0., 0., 0., 0., 0., 0., 0.,\n",
              "         0., 0., 0., 0., 0., 0., 1.],\n",
              "        [0., 0., 0., 0., 0., 0., 0., 0., 0., 0., 0., 0., 1., 0., 0., 0., 0., 0.,\n",
              "         0., 0., 0., 0., 0., 0., 0.],\n",
              "        [0., 1., 0., 0., 0., 0., 0., 0., 0., 0., 0., 0., 0., 0., 0., 0., 0., 0.,\n",
              "         0., 0., 0., 0., 0., 0., 0.],\n",
              "        [0., 0., 0., 0., 0., 0., 0., 0., 0., 0., 0., 0., 0., 1., 0., 0., 0., 0.,\n",
              "         0., 0., 0., 0., 0., 0., 0.],\n",
              "        [0., 0., 0., 0., 0., 0., 0., 0., 0., 0., 0., 0., 0., 0., 0., 1., 0., 0.,\n",
              "         0., 0., 0., 0., 0., 0., 0.],\n",
              "        [0., 0., 0., 0., 0., 0., 0., 0., 0., 0., 0., 1., 0., 0., 0., 0., 0., 0.,\n",
              "         0., 0., 0., 0., 0., 0., 0.],\n",
              "        [0., 0., 0., 0., 0., 0., 0., 0., 0., 0., 0., 0., 0., 0., 0., 0., 1., 0.,\n",
              "         0., 0., 0., 0., 0., 0., 0.]])"
            ]
          },
          "execution_count": 7,
          "metadata": {},
          "output_type": "execute_result"
        }
      ],
      "source": [
        "fs_matrx = torch.zeros((len(fs), len(word_to_ind)))\n",
        "for i, word in enumerate(fs):\n",
        "    fs_matrx[i, word_to_ind[word]] = 1\n",
        "fs_matrx"
      ]
    },
    {
      "cell_type": "markdown",
      "metadata": {
        "id": "9ZvQKHYA-mJN"
      },
      "source": [
        "1.3 Решите задачу 1.2, используя модуль `nn.Embedding`"
      ]
    },
    {
      "cell_type": "code",
      "execution_count": null,
      "metadata": {
        "id": "N3s-ES1VUxQV",
        "outputId": "37ab51cc-8a65-4c6f-956a-cbba7cb519eb"
      },
      "outputs": [
        {
          "data": {
            "text/plain": [
              "tensor([23, 24, 12,  1, 13, 15, 11, 16])"
            ]
          },
          "execution_count": 8,
          "metadata": {},
          "output_type": "execute_result"
        }
      ],
      "source": [
        "fs_vect_ = fs_vect.type(torch.long)\n",
        "fs_vect_"
      ]
    },
    {
      "cell_type": "code",
      "execution_count": null,
      "metadata": {
        "id": "jkCsZmbhUxQV",
        "outputId": "7b95ec98-22c7-4aaa-dd84-409cf4bd837a"
      },
      "outputs": [
        {
          "data": {
            "text/plain": [
              "tensor([[-0.1631,  0.1824, -1.6145, -2.0389, -0.5137,  1.0800,  0.7620, -1.2372,\n",
              "         -0.0063,  0.3325, -0.2095,  0.3245, -0.5928, -1.0001, -1.5142, -0.1946,\n",
              "          0.0201, -1.1963,  1.6309, -1.0088,  0.7910, -0.3188,  0.5548,  0.3527,\n",
              "         -0.5171],\n",
              "        [ 0.3349, -1.1374, -0.2967,  0.1038,  0.2872,  1.6163,  0.8835, -0.8971,\n",
              "         -1.1376,  1.3834, -1.1561,  0.2274,  0.0929,  1.1636, -0.2336,  1.5451,\n",
              "          0.8763,  0.2755, -0.8199, -0.9402,  2.1048,  0.1306,  0.5448,  0.3013,\n",
              "         -0.8456],\n",
              "        [ 0.0999,  0.3531, -0.7670, -0.4885, -0.8026, -1.5330,  0.2634, -0.5073,\n",
              "         -1.5415,  0.8513,  1.2109, -1.1880, -0.4185,  0.5132, -0.1557, -1.0545,\n",
              "          0.3440, -1.3580,  0.2491, -0.4964,  0.2829, -0.1350, -0.9876, -1.1049,\n",
              "          0.4160],\n",
              "        [ 0.2587, -1.8525,  1.7193, -0.3955, -0.3431, -0.7139,  0.1381, -0.0085,\n",
              "          0.5217,  0.9449, -0.1012, -0.1081, -1.4514, -0.7364,  1.3831, -0.1073,\n",
              "          1.1250, -1.3109, -0.2625,  0.6078, -1.1839, -0.2944,  0.1038,  0.6535,\n",
              "          0.1469],\n",
              "        [-0.8281, -1.5051, -2.2093, -0.6757,  0.2749, -0.2700, -2.0222,  0.2591,\n",
              "         -0.6944,  2.2464,  0.0806,  0.0932, -1.3085,  0.2572,  1.2874,  0.6647,\n",
              "         -0.4344, -1.5594, -2.5914, -0.3534,  1.7250, -0.5809,  0.1327, -0.3673,\n",
              "          1.5568],\n",
              "        [-0.8566, -1.0331, -1.9452, -0.3656, -2.3921, -0.3760, -0.0803,  1.1009,\n",
              "         -1.1962,  0.3099,  0.1618,  0.7933, -0.9315,  0.1394, -0.4986, -0.2745,\n",
              "         -0.8334,  1.1467, -0.2838,  1.3980,  1.2372,  0.7860,  0.5105,  1.9561,\n",
              "         -2.9325],\n",
              "        [-0.4497,  0.9783, -0.5204,  0.4838, -0.0576, -0.7317, -2.6738,  0.1008,\n",
              "          0.0471, -0.0239,  0.3357,  0.8571, -1.0135, -0.2098, -0.7035, -0.8971,\n",
              "         -2.2515, -1.6164, -0.0636, -0.5482,  1.5855, -0.6494,  0.0641,  0.6617,\n",
              "          1.3989],\n",
              "        [-0.8665, -0.0053,  0.7521, -0.7044,  0.1680, -0.8457, -0.8782, -0.2237,\n",
              "         -0.5307, -0.2068,  0.0614,  0.6868, -0.2950, -0.5369, -0.6698,  0.8103,\n",
              "          0.5258, -0.0777,  0.1626,  0.1437, -0.1636,  2.7405, -1.0110,  0.6274,\n",
              "          0.5063]], grad_fn=<EmbeddingBackward0>)"
            ]
          },
          "execution_count": 9,
          "metadata": {},
          "output_type": "execute_result"
        }
      ],
      "source": [
        "nn.Embedding(num_embeddings=len(text_words), embedding_dim=len(text_words))(fs_vect_)"
      ]
    },
    {
      "cell_type": "markdown",
      "metadata": {
        "id": "TXjM7qEUNFY_"
      },
      "source": [
        "## 2. Классификация фамилий по национальности (ConvNet)\n",
        "\n",
        "Датасет: https://disk.yandex.ru/d/owHew8hzPc7X9Q?w=1\n",
        "\n",
        "2.1 Считать файл `surnames/surnames.csv`."
      ]
    },
    {
      "cell_type": "code",
      "execution_count": null,
      "metadata": {
        "id": "RfdwgX6UUxQW"
      },
      "outputs": [],
      "source": [
        "df = pd.read_csv(\"./data/surnames.csv\")"
      ]
    },
    {
      "cell_type": "markdown",
      "metadata": {
        "id": "9sNaG-VwUxQW"
      },
      "source": [
        "2.2 Закодировать национальности числами, начиная с 0."
      ]
    },
    {
      "cell_type": "code",
      "execution_count": null,
      "metadata": {
        "id": "rLSs3vDiUxQW"
      },
      "outputs": [],
      "source": [
        "class_encoder = LabelEncoder()\n",
        "df['nationality'] = class_encoder.fit_transform(df['nationality'])"
      ]
    },
    {
      "cell_type": "markdown",
      "metadata": {
        "id": "A_PTzrvLUxQW"
      },
      "source": [
        "2.3 Разбить датасет на обучающую и тестовую выборку"
      ]
    },
    {
      "cell_type": "code",
      "execution_count": null,
      "metadata": {
        "id": "s2opfNs7UxQX"
      },
      "outputs": [],
      "source": [
        "X = df['surname'].str.lower().str.strip()\n",
        "y = df['nationality']\n",
        "n_classes = y.nunique()\n",
        "X_train, X_test, y_train, y_test = train_test_split(X, y, test_size=0.2, random_state=1)"
      ]
    },
    {
      "cell_type": "markdown",
      "metadata": {
        "id": "15xKDJYbUxQX"
      },
      "source": [
        "2.4 Реализовать класс `Vocab` (токен = __символ__)\n",
        "  * добавьте в словарь специальный токен `<PAD>` с индексом 0\n",
        "  * при создании словаря сохраните длину самой длинной последовательности из набора данных в виде атрибута `max_seq_len`"
      ]
    },
    {
      "cell_type": "code",
      "execution_count": null,
      "metadata": {
        "id": "iKCuCtWfUxQX"
      },
      "outputs": [],
      "source": [
        "class Vocab:\n",
        "    def __init__(self, data):\n",
        "        self.max_seq_len = data.str.len().max()\n",
        "        tokens = set()\n",
        "        for item in data:\n",
        "            tokens.update(item)\n",
        "        tokens = list(tokens)\n",
        "        tokens.insert(0, \"<PAD>\")\n",
        "        self.idx_to_token = dict(enumerate(tokens))\n",
        "        self.token_to_idx = {token: idx for idx, token in self.idx_to_token.items()}\n",
        "        self.vocab_len = len(self.idx_to_token)"
      ]
    },
    {
      "cell_type": "markdown",
      "metadata": {
        "id": "I-Jmr8K8UxQX"
      },
      "source": [
        "2.5 Реализовать класс `SurnamesDataset`\n",
        "  * метод `__getitem__` возвращает пару: <последовательность индексов токенов (см. 1.1 ), номер класса>\n",
        "  * длина каждой такой последовательности должна быть одинаковой и равной `vocab.max_seq_len`. Чтобы добиться этого, дополните последовательность справа индексом токена `<PAD>` до нужной длины\n"
      ]
    },
    {
      "cell_type": "code",
      "execution_count": null,
      "metadata": {
        "id": "u8zdpQXaUxQX"
      },
      "outputs": [],
      "source": [
        "class SurnamesDataset(Dataset):\n",
        "    def __init__(self, X, y, vocab: Vocab):\n",
        "        self.X = X\n",
        "        self.y = y\n",
        "        self.vocab = vocab\n",
        "\n",
        "    def vectorize(self, surname):\n",
        "        '''Генерирует представление фамилии surname в при помощи бинарного кодирования (см. 1.2)'''\n",
        "        surname_t = torch.zeros(self.vocab.max_seq_len).type(torch.long)\n",
        "        for i, token in enumerate(surname):\n",
        "            surname_t[i] = self.vocab.token_to_idx[token]\n",
        "        return surname_t\n",
        "\n",
        "    def __len__(self):\n",
        "        return len(self.X)\n",
        "\n",
        "    def __getitem__(self, idx):\n",
        "        return self.vectorize(self.X.iloc[idx]), self.y.iloc[idx]"
      ]
    },
    {
      "cell_type": "markdown",
      "metadata": {
        "id": "wEjtyRImUxQY"
      },
      "source": [
        "2.6. Обучить классификатор.\n",
        "  \n",
        "  * Для преобразования последовательности индексов в последовательность векторов используйте `nn.Embedding`. Рассмотрите два варианта:\n",
        "    - когда токен представляется в виде унитарного вектора и модуль `nn.Embedding` не обучается\n",
        "    - когда токен представляется в виде вектора небольшой размерности (меньше, чем размер словаря) и модуль `nn.Embedding` обучается\n",
        "\n",
        "  * Используйте одномерные свертки и пулинг (`nn.Conv1d`, `nn.MaxPool1d`)\n",
        "    - обратите внимание, что `nn.Conv1d` ожидает на вход трехмерный тензор размерности `(batch, embedding_dim, seq_len)`\n"
      ]
    },
    {
      "cell_type": "code",
      "execution_count": null,
      "metadata": {
        "id": "T1_CUoWaUxQY"
      },
      "outputs": [],
      "source": [
        "def hard_training(model, criterion, optimizer, n_epochs=51):\n",
        "    for epoch in range(n_epochs):\n",
        "        epoch_loss = 0\n",
        "        y_pred = torch.empty(0)\n",
        "        y_true = torch.empty(0)\n",
        "\n",
        "        model.train()\n",
        "        for X_batch, y_batch in train_loader:\n",
        "            predictions = model.forward(X_batch, training=True)\n",
        "            loss = criterion(predictions, y_batch.type(torch.long))\n",
        "            loss.backward()\n",
        "            optimizer.step()\n",
        "            optimizer.zero_grad()\n",
        "            epoch_loss += loss.item()\n",
        "            with torch.no_grad():\n",
        "                y_true = torch.cat((y_true, y_batch))\n",
        "                y_pred = torch.cat((y_pred, predictions.argmax(dim=1).cpu().detach()))\n",
        "        trin_acc = accuracy_score(y_true, y_pred).item()\n",
        "\n",
        "\n",
        "        model.eval()\n",
        "        with torch.no_grad():\n",
        "            val_loss = 0\n",
        "            y_pred = torch.empty(0)\n",
        "            y_true = torch.empty(0)\n",
        "            for X_batch, y_batch in test_loader:\n",
        "                predictions = model(X_batch)\n",
        "                loss = criterion(predictions, y_batch.type(torch.long)).item()\n",
        "                y_true = torch.cat((y_true, y_batch))\n",
        "                y_pred = torch.cat((y_pred, predictions.argmax(dim=1).cpu().detach()))\n",
        "                val_loss += loss\n",
        "            val_acc = accuracy_score(y_true, y_pred).item()\n",
        "            if epoch % 5 == 0:\n",
        "                print(f'#{epoch} Training loss: {epoch_loss / len(train_loader):.4f}\\\n",
        " training_acc: {trin_acc:.4f} val_loss: {val_loss / len(test_loader):.4f} val_acc: {val_acc:.4f}')\n",
        "\n",
        "def GloP_boB(model):\n",
        "    y_pred = torch.empty(0)\n",
        "    y_ = torch.empty(0)\n",
        "\n",
        "    for X_batch, y_batch in test_loader:\n",
        "\n",
        "        predictions = model(X_batch).argmax(dim=1).cpu().detach()\n",
        "        y_pred = torch.cat((y_pred, predictions))\n",
        "        y_ = torch.cat((y_, y_batch))\n",
        "\n",
        "    print(classification_report(y_, y_pred, zero_division=0))"
      ]
    },
    {
      "cell_type": "code",
      "execution_count": null,
      "metadata": {
        "id": "Ba48tAOwUxQY"
      },
      "outputs": [],
      "source": [
        "vocab = Vocab(X)\n",
        "train_dataset = SurnamesDataset(X_train, y_train, vocab)\n",
        "test_dataset = SurnamesDataset(X_test, y_test, vocab)"
      ]
    },
    {
      "cell_type": "code",
      "execution_count": null,
      "metadata": {
        "id": "ncc0VpCiUxQY"
      },
      "outputs": [],
      "source": [
        "train_loader = DataLoader(train_dataset, batch_size=128, shuffle=True)\n",
        "test_loader = DataLoader(test_dataset, batch_size=128, shuffle=False)"
      ]
    },
    {
      "cell_type": "code",
      "execution_count": null,
      "metadata": {
        "id": "IJ2Zq-iQUxQZ",
        "outputId": "a8601d69-a9f6-4180-d0ec-80ce7d2f3bc8"
      },
      "outputs": [
        {
          "data": {
            "text/plain": [
              "18"
            ]
          },
          "execution_count": 18,
          "metadata": {},
          "output_type": "execute_result"
        }
      ],
      "source": [
        "n_classes"
      ]
    },
    {
      "cell_type": "code",
      "execution_count": null,
      "metadata": {
        "id": "AtmGJLm7UxQZ"
      },
      "outputs": [],
      "source": [
        "class MyOwnClassifier(nn.Module):\n",
        "    def __init__(self, num_embeddings, embedding_dim):\n",
        "        super(MyOwnClassifier, self).__init__()\n",
        "        self.embedding = nn.Embedding(num_embeddings, embedding_dim)\n",
        "        self.l1 = nn.Sequential(\n",
        "            nn.Conv1d(embedding_dim, 64, kernel_size=5),\n",
        "            nn.BatchNorm1d(64),\n",
        "            nn.MaxPool1d(2),\n",
        "        )\n",
        "\n",
        "        self.fc1 = nn.Sequential(\n",
        "            nn.Dropout(),\n",
        "            nn.Linear(6*64, 1024),\n",
        "            nn.ReLU(),\n",
        "\n",
        "        )\n",
        "        self.fc2 = nn.Sequential(\n",
        "            nn.Dropout(),\n",
        "            nn.Linear(1024, 18),\n",
        "            nn.Softmax(dim=1),\n",
        "        )\n",
        "\n",
        "    def forward(self, x, training=False):\n",
        "        x = self.embedding(x).transpose(1,2)\n",
        "        x = self.l1(x)\n",
        "#         x = self.l2(x)\n",
        "        x = x.view(x.size(0), -1)\n",
        "        x = self.fc1(x)\n",
        "        x = self.fc2(x)\n",
        "        return x"
      ]
    },
    {
      "cell_type": "code",
      "execution_count": null,
      "metadata": {
        "id": "hxeG6ICZUxQZ"
      },
      "outputs": [],
      "source": [
        "model = MyOwnClassifier(num_embeddings=vocab.vocab_len, embedding_dim=1)\n",
        "criterion = nn.CrossEntropyLoss()\n",
        "optimizer = optim.Adam(model.parameters(), lr=0.001)"
      ]
    },
    {
      "cell_type": "code",
      "execution_count": null,
      "metadata": {
        "id": "HZKcviuHUxQZ",
        "outputId": "876d45e0-a706-4ae4-f062-88aa1c741c26"
      },
      "outputs": [
        {
          "data": {
            "text/plain": [
              "413258"
            ]
          },
          "execution_count": 25,
          "metadata": {},
          "output_type": "execute_result"
        }
      ],
      "source": [
        "sum(p.numel() for p in model.parameters())"
      ]
    },
    {
      "cell_type": "code",
      "execution_count": null,
      "metadata": {
        "id": "PLS4j23uUxQa",
        "outputId": "2f4ca0ae-8c10-48f1-a668-476c02a8926e"
      },
      "outputs": [
        {
          "ename": "NameError",
          "evalue": "name 'hard_training' is not defined",
          "output_type": "error",
          "traceback": [
            "\u001b[1;31m---------------------------------------------------------------------------\u001b[0m",
            "\u001b[1;31mNameError\u001b[0m                                 Traceback (most recent call last)",
            "Cell \u001b[1;32mIn[1], line 1\u001b[0m\n\u001b[1;32m----> 1\u001b[0m \u001b[43mhard_training\u001b[49m(model, criterion, optimizer)\n",
            "\u001b[1;31mNameError\u001b[0m: name 'hard_training' is not defined"
          ]
        }
      ],
      "source": [
        "hard_training(model, criterion, optimizer)"
      ]
    },
    {
      "cell_type": "code",
      "execution_count": null,
      "metadata": {
        "id": "UhzMdfddUxQa",
        "outputId": "ebca31e9-5332-41d5-c5d4-4b1dc1064047"
      },
      "outputs": [
        {
          "name": "stdout",
          "output_type": "stream",
          "text": [
            "              precision    recall  f1-score   support\n",
            "\n",
            "         0.0       0.00      0.00      0.00       346\n",
            "         1.0       0.00      0.00      0.00        36\n",
            "         2.0       0.00      0.00      0.00        81\n",
            "         3.0       0.00      0.00      0.00        49\n",
            "         4.0       0.31      0.82      0.45       567\n",
            "         5.0       0.00      0.00      0.00        36\n",
            "         6.0       0.00      0.00      0.00       118\n",
            "         7.0       0.00      0.00      0.00        32\n",
            "         8.0       0.00      0.00      0.00        41\n",
            "         9.0       0.00      0.00      0.00       108\n",
            "        10.0       0.00      0.00      0.00       161\n",
            "        11.0       0.00      0.00      0.00        15\n",
            "        12.0       0.00      0.00      0.00        25\n",
            "        13.0       0.00      0.00      0.00        14\n",
            "        14.0       0.51      0.71      0.59       482\n",
            "        15.0       0.00      0.00      0.00        13\n",
            "        16.0       0.00      0.00      0.00        57\n",
            "        17.0       0.00      0.00      0.00        15\n",
            "\n",
            "    accuracy                           0.37      2196\n",
            "   macro avg       0.05      0.09      0.06      2196\n",
            "weighted avg       0.19      0.37      0.25      2196\n",
            "\n"
          ]
        }
      ],
      "source": [
        "GloP_boB(model)"
      ]
    },
    {
      "cell_type": "code",
      "execution_count": null,
      "metadata": {
        "id": "hXOw--bGUxQa"
      },
      "outputs": [],
      "source": [
        "model2 = MyOwnClassifier(num_embeddings=vocab.vocab_len, embedding_dim=32)\n",
        "criterion = nn.CrossEntropyLoss()\n",
        "optimizer = optim.Adam(model2.parameters(), lr=0.001)"
      ]
    },
    {
      "cell_type": "code",
      "execution_count": null,
      "metadata": {
        "id": "6J3m7mDOUxQa",
        "outputId": "2d331282-c0ee-4b2a-b261-879cbd8a924a"
      },
      "outputs": [
        {
          "name": "stdout",
          "output_type": "stream",
          "text": [
            "#0 Training loss: 2.5730 training_acc: 0.4130 val_loss: 2.4885 val_acc: 0.4923\n",
            "#5 Training loss: 2.4303 training_acc: 0.5515 val_loss: 2.4282 val_acc: 0.5492\n",
            "#10 Training loss: 2.4144 training_acc: 0.5666 val_loss: 2.4228 val_acc: 0.5551\n",
            "#15 Training loss: 2.3763 training_acc: 0.6056 val_loss: 2.3815 val_acc: 0.5984\n",
            "#20 Training loss: 2.3502 training_acc: 0.6314 val_loss: 2.3693 val_acc: 0.6129\n",
            "#25 Training loss: 2.3439 training_acc: 0.6375 val_loss: 2.3584 val_acc: 0.6198\n",
            "#30 Training loss: 2.3147 training_acc: 0.6669 val_loss: 2.3265 val_acc: 0.6489\n",
            "#35 Training loss: 2.3039 training_acc: 0.6778 val_loss: 2.3206 val_acc: 0.6603\n",
            "#40 Training loss: 2.2925 training_acc: 0.6891 val_loss: 2.3228 val_acc: 0.6562\n",
            "#45 Training loss: 2.2905 training_acc: 0.6902 val_loss: 2.3171 val_acc: 0.6621\n",
            "#50 Training loss: 2.2871 training_acc: 0.6942 val_loss: 2.3108 val_acc: 0.6667\n",
            "#55 Training loss: 2.2832 training_acc: 0.6977 val_loss: 2.3088 val_acc: 0.6712\n",
            "#60 Training loss: 2.2801 training_acc: 0.7012 val_loss: 2.3111 val_acc: 0.6680\n",
            "#65 Training loss: 2.2791 training_acc: 0.7016 val_loss: 2.3046 val_acc: 0.6721\n",
            "#70 Training loss: 2.2770 training_acc: 0.7041 val_loss: 2.3000 val_acc: 0.6740\n",
            "#75 Training loss: 2.2718 training_acc: 0.7098 val_loss: 2.2990 val_acc: 0.6781\n",
            "#80 Training loss: 2.2735 training_acc: 0.7077 val_loss: 2.3064 val_acc: 0.6758\n",
            "#85 Training loss: 2.2709 training_acc: 0.7092 val_loss: 2.3023 val_acc: 0.6753\n",
            "#90 Training loss: 2.2662 training_acc: 0.7158 val_loss: 2.3041 val_acc: 0.6767\n",
            "#95 Training loss: 2.2697 training_acc: 0.7111 val_loss: 2.3027 val_acc: 0.6781\n",
            "#100 Training loss: 2.2669 training_acc: 0.7147 val_loss: 2.2958 val_acc: 0.6817\n"
          ]
        }
      ],
      "source": [
        "hard_training(model2, criterion, optimizer, n_epochs=101)"
      ]
    },
    {
      "cell_type": "code",
      "execution_count": null,
      "metadata": {
        "id": "u9l5Ck9oUxQb",
        "outputId": "7270aa61-ccd7-4e1f-b5ce-c9f6f11d4096"
      },
      "outputs": [
        {
          "name": "stdout",
          "output_type": "stream",
          "text": [
            "              precision    recall  f1-score   support\n",
            "\n",
            "         0.0       0.89      0.96      0.92       346\n",
            "         1.0       0.45      0.86      0.59        36\n",
            "         2.0       0.00      0.00      0.00        81\n",
            "         3.0       0.00      0.00      0.00        49\n",
            "         4.0       0.58      0.92      0.71       567\n",
            "         5.0       0.00      0.00      0.00        36\n",
            "         6.0       0.00      0.00      0.00       118\n",
            "         7.0       0.00      0.00      0.00        32\n",
            "         8.0       0.00      0.00      0.00        41\n",
            "         9.0       0.53      0.74      0.62       108\n",
            "        10.0       0.75      0.86      0.80       161\n",
            "        11.0       0.33      0.07      0.11        15\n",
            "        12.0       0.00      0.00      0.00        25\n",
            "        13.0       0.00      0.00      0.00        14\n",
            "        14.0       0.77      0.81      0.79       482\n",
            "        15.0       0.00      0.00      0.00        13\n",
            "        16.0       0.00      0.00      0.00        57\n",
            "        17.0       0.00      0.00      0.00        15\n",
            "\n",
            "    accuracy                           0.68      2196\n",
            "   macro avg       0.24      0.29      0.25      2196\n",
            "weighted avg       0.55      0.68      0.60      2196\n",
            "\n"
          ]
        }
      ],
      "source": [
        "GloP_boB(model2)"
      ]
    },
    {
      "cell_type": "markdown",
      "metadata": {
        "id": "MItOASLPUxQb"
      },
      "source": [
        "2.7 Измерить точность на тестовой выборке. Проверить работоспособность модели: прогнать несколько фамилий студентов группы через модели и проверить результат. Для каждой фамилии выводить 3 наиболее вероятных предсказания."
      ]
    },
    {
      "cell_type": "code",
      "execution_count": null,
      "metadata": {
        "id": "ZGfJX2NP1sw4"
      },
      "outputs": [],
      "source": [
        "def test_surname(surname):\n",
        "    x = train_dataset.vectorize(surname).unsqueeze(0)\n",
        "    variety, predictions = model(x).topk(k=3, dim=1)\n",
        "    variety = variety.cpu().detach().squeeze()\n",
        "    pred_ = class_encoder.inverse_transform(predictions.cpu().detach().squeeze())\n",
        "    out_ = \", \".join([f\"{nat}:{frac:.2f}\" for nat, frac in zip(pred_, variety)])\n",
        "    print(f\"{surname} --- {out_}\")"
      ]
    },
    {
      "cell_type": "code",
      "execution_count": null,
      "metadata": {
        "id": "GHjCRqQg1sw5",
        "outputId": "93494b17-0b9d-49d0-dbd3-31f58559cfaa"
      },
      "outputs": [
        {
          "name": "stdout",
          "output_type": "stream",
          "text": [
            "bazoyan --- Russian:1.00, English:0.00, Italian:0.00\n",
            "gorshenev --- Russian:1.00, English:0.00, Arabic:0.00\n",
            "strizhov --- Russian:1.00, English:0.00, Italian:0.00\n",
            "petukhov --- English:1.00, Russian:0.00, Arabic:0.00\n",
            "trubadurov --- Russian:1.00, English:0.00, German:0.00\n",
            "atayanc --- English:1.00, Arabic:0.00, Czech:0.00\n"
          ]
        }
      ],
      "source": [
        "for surname in (\"bazoyan\", \"gorshenev\", \"strizhov\", \"petukhov\", \"trubadurov\", \"atayanc\"):\n",
        "    test_surname(surname)"
      ]
    },
    {
      "cell_type": "markdown",
      "metadata": {
        "id": "uo-hf5CQ0iWv"
      },
      "source": [
        "## 3. Классификация обзоров на фильмы (ConvNet)\n",
        "\n",
        "Датасет: https://disk.yandex.ru/d/tdinpb0nN_Dsrg\n",
        "\n",
        "2.1 Создайте набор данных на основе файлов polarity/positive_reviews.csv (положительные отзывы) и polarity/negative_reviews.csv (отрицательные отзывы). Разбейте на обучающую и тестовую выборку.\n",
        "  * токен = __слово__\n",
        "  * данные для обучения в датасете представляются в виде последовательности индексов токенов\n",
        "  * словарь создается на основе _только_ обучающей выборки. Для корректной обработки ситуаций, когда в тестовой выборке встретится токен, который не хранится в словаре, добавьте в словарь специальный токен `<UNK>`\n",
        "  * добавьте предобработку текста"
      ]
    },
    {
      "cell_type": "code",
      "execution_count": null,
      "metadata": {
        "id": "oPB2AHteUxQh",
        "outputId": "b5851a2d-c67c-418a-b8c9-f3ec13d2777d"
      },
      "outputs": [
        {
          "data": {
            "text/html": [
              "<div>\n",
              "<style scoped>\n",
              "    .dataframe tbody tr th:only-of-type {\n",
              "        vertical-align: middle;\n",
              "    }\n",
              "\n",
              "    .dataframe tbody tr th {\n",
              "        vertical-align: top;\n",
              "    }\n",
              "\n",
              "    .dataframe thead th {\n",
              "        text-align: right;\n",
              "    }\n",
              "</style>\n",
              "<table border=\"1\" class=\"dataframe\">\n",
              "  <thead>\n",
              "    <tr style=\"text-align: right;\">\n",
              "      <th></th>\n",
              "      <th>review</th>\n",
              "      <th>type</th>\n",
              "    </tr>\n",
              "  </thead>\n",
              "  <tbody>\n",
              "    <tr>\n",
              "      <th>0</th>\n",
              "      <td>simplistic , silly and tedious .</td>\n",
              "      <td>positive</td>\n",
              "    </tr>\n",
              "    <tr>\n",
              "      <th>1</th>\n",
              "      <td>it's so laddish and juvenile , only teenage bo...</td>\n",
              "      <td>positive</td>\n",
              "    </tr>\n",
              "  </tbody>\n",
              "</table>\n",
              "</div>"
            ],
            "text/plain": [
              "                                              review      type\n",
              "0                   simplistic , silly and tedious .  positive\n",
              "1  it's so laddish and juvenile , only teenage bo...  positive"
            ]
          },
          "execution_count": 29,
          "metadata": {},
          "output_type": "execute_result"
        }
      ],
      "source": [
        "positive = pd.read_csv(\"./data/positive_reviews.txt\", sep='%-%', header=None, engine=\"python\")\n",
        "positive[\"type\"] = \"positive\"\n",
        "negative = pd.read_csv(\"./data/negative_reviews.txt\", sep='%-%', header=None, engine=\"python\")\n",
        "negative[\"type\"] = \"negative\"\n",
        "df = pd.concat((positive, negative), ignore_index=True)\n",
        "df.columns = [\"review\", \"type\"]\n",
        "df.head(2)"
      ]
    },
    {
      "cell_type": "code",
      "execution_count": null,
      "metadata": {
        "id": "zAKH1lkeUxQh"
      },
      "outputs": [],
      "source": [
        "class_encoder_2 = LabelEncoder()\n",
        "df.type = class_encoder_2.fit_transform(df.type)"
      ]
    },
    {
      "cell_type": "code",
      "execution_count": null,
      "metadata": {
        "id": "bpDoUUUTUxQh"
      },
      "outputs": [],
      "source": [
        "stopwords = nltk.corpus.stopwords.words('english')\n",
        "lemmatizer = nltk.stem.WordNetLemmatizer()\n",
        "puttern = re.compile(\"^[a-z]+$\")\n",
        "def preprocess(text):\n",
        "    text = text.lower().strip()\n",
        "    words = [lemmatizer.lemmatize(word) for word in nltk.word_tokenize(text) if (puttern.search(word)) and (word not in stopwords)]\n",
        "    return words"
      ]
    },
    {
      "cell_type": "code",
      "execution_count": null,
      "metadata": {
        "id": "6UEDIa4AUxQh"
      },
      "outputs": [],
      "source": [
        "df.review = df.review.apply(preprocess)"
      ]
    },
    {
      "cell_type": "code",
      "execution_count": null,
      "metadata": {
        "id": "I-IBlL9fUxQi"
      },
      "outputs": [],
      "source": [
        "X = df.review\n",
        "y = df.type\n",
        "n_classes = y.nunique()\n",
        "X_train, X_test, y_train, y_test = train_test_split(X, y, test_size=0.2, random_state=1)"
      ]
    },
    {
      "cell_type": "code",
      "execution_count": null,
      "metadata": {
        "id": "WwkvQf8NUxQi"
      },
      "outputs": [],
      "source": [
        "class Vocab:\n",
        "    def __init__(self, data):\n",
        "        self.max_seq_len = data.apply(lambda x: len(x)).max()\n",
        "        tokens = set()\n",
        "        for item in data:\n",
        "            tokens.update(item)\n",
        "        tokens = list(tokens)\n",
        "        tokens.insert(0, \"<PAD>\")\n",
        "        tokens.insert(1, \"<UNK>\")\n",
        "        self.idx_to_token = dict(enumerate(tokens))\n",
        "        self.token_to_idx = {token: idx for idx, token in self.idx_to_token.items()}\n",
        "        self.vocab_len = len(self.idx_to_token)"
      ]
    },
    {
      "cell_type": "code",
      "execution_count": null,
      "metadata": {
        "id": "rFuayiS2UxQi"
      },
      "outputs": [],
      "source": [
        "class ReviewsDataset(Dataset):\n",
        "    def __init__(self, X, y, vocab: Vocab):\n",
        "        self.X = X\n",
        "        self.y = y\n",
        "        self.vocab = vocab\n",
        "\n",
        "    def vectorize(self, review):\n",
        "        '''Генерирует представление отзыва'''\n",
        "        review_t = torch.zeros(self.vocab.max_seq_len).type(torch.long)\n",
        "        for i, token in enumerate(review):\n",
        "            try:\n",
        "                review_t[i] = self.vocab.token_to_idx[token]\n",
        "            except KeyError as ke:\n",
        "                review_t[i] = self.vocab.token_to_idx[\"<UNK>\"]\n",
        "        return review_t\n",
        "\n",
        "    def __len__(self):\n",
        "        return len(self.X)\n",
        "\n",
        "    def __getitem__(self, idx):\n",
        "        return self.vectorize(self.X.iloc[idx]), self.y.iloc[idx]"
      ]
    },
    {
      "cell_type": "markdown",
      "metadata": {
        "id": "qkPs7A7iUxQi"
      },
      "source": [
        "2.2. Обучите классификатор.\n",
        "  \n",
        "  * Для преобразования последовательности индексов в последовательность векторов используйте `nn.Embedding`\n",
        "    - подберите адекватную размерность вектора эмбеддинга:\n",
        "    - модуль `nn.Embedding` обучается\n",
        "\n",
        "  * Используйте одномерные свертки и пулинг (`nn.Conv1d`, `nn.MaxPool1d`)\n",
        "    - обратите внимание, что `nn.Conv1d` ожидает на вход трехмерный тензор размерности `(batch, embedding_dim, seq_len)`"
      ]
    },
    {
      "cell_type": "code",
      "execution_count": null,
      "metadata": {
        "id": "9wKu8-U6UxQj"
      },
      "outputs": [],
      "source": [
        "vocab = Vocab(X_train)\n",
        "train_dataset = ReviewsDataset(X_train, y_train, vocab)\n",
        "test_dataset = ReviewsDataset(X_test, y_test, vocab)\n",
        "train_loader = DataLoader(train_dataset, batch_size=128, shuffle=True)\n",
        "test_loader = DataLoader(test_dataset, batch_size=128, shuffle=False)"
      ]
    },
    {
      "cell_type": "code",
      "execution_count": null,
      "metadata": {
        "id": "s279cCvKUxQj"
      },
      "outputs": [],
      "source": [
        "class MyOwnClassifier(nn.Module):\n",
        "    def __init__(self, num_embeddings, embedding_dim, dropout_level=0.5):\n",
        "        super(MyOwnClassifier, self).__init__()\n",
        "        self.embedding = nn.Embedding(num_embeddings, embedding_dim)\n",
        "        self.l1 = nn.Sequential(\n",
        "            nn.Conv1d(embedding_dim, 256, kernel_size=5),\n",
        "            nn.BatchNorm1d(256),\n",
        "            nn.MaxPool1d(2),\n",
        "        )\n",
        "        self.l2 = nn.Sequential(\n",
        "            nn.Conv1d(256, 512, kernel_size=3),\n",
        "            nn.BatchNorm1d(512),\n",
        "            nn.MaxPool1d(2),\n",
        "        )\n",
        "#         self.l3 = nn.Sequential(\n",
        "#             nn.Conv1d(256, 512, kernel_size=3),\n",
        "#             nn.BatchNorm1d(512),\n",
        "#             nn.MaxPool1d(2),\n",
        "#         )\n",
        "        self.drop = nn.Dropout(p=dropout_level)\n",
        "        self.fc1 = nn.Sequential(\n",
        "            nn.Linear(6*512, 1024),\n",
        "#             nn.Softmax(dim=1),\n",
        "            nn.ReLU(),\n",
        "\n",
        "        )\n",
        "#         self.fc2 = nn.Sequential(\n",
        "#             nn.Dropout(p=dropout_level),\n",
        "#             nn.Linear(1024, 256),\n",
        "# #             nn.Softmax(dim=1),\n",
        "#             nn.ReLU(),\n",
        "#         )\n",
        "        self.fc3 = nn.Sequential(\n",
        "            nn.Linear(1024, n_classes),\n",
        "            nn.Softmax(dim=1),\n",
        "        )\n",
        "\n",
        "    def forward(self, x, training=False):\n",
        "#         print(training)\n",
        "        x = self.embedding(x).transpose(1,2)\n",
        "        x = self.l1(x)\n",
        "        x = self.l2(x)\n",
        "#         x = self.l3(x)\n",
        "        x = x.view(x.size(0), -1)\n",
        "        if training:\n",
        "            x = self.drop(x)\n",
        "        x = self.fc1(x)\n",
        "#         x = self.fc2(x)\n",
        "        if training:\n",
        "            x = self.drop(x)\n",
        "        x = self.fc3(x)\n",
        "        return x"
      ]
    },
    {
      "cell_type": "code",
      "execution_count": null,
      "metadata": {
        "id": "NrUEZ5itUxQj"
      },
      "outputs": [],
      "source": [
        "model = MyOwnClassifier(num_embeddings=vocab.vocab_len, embedding_dim=128, dropout_level=0.9)\n",
        "criterion = nn.CrossEntropyLoss()\n",
        "optimizer = optim.Adam(model.parameters(), lr=0.0001)"
      ]
    },
    {
      "cell_type": "code",
      "execution_count": null,
      "metadata": {
        "id": "G7HdwN9eUxQj",
        "outputId": "1ee81215-00b1-4249-aeaa-e17d33ed1ea4"
      },
      "outputs": [
        {
          "name": "stdout",
          "output_type": "stream",
          "text": [
            "#0 Training loss: 0.7655 training_acc: 0.4960 val_loss: 0.7087 val_acc: 0.5035\n",
            "#5 Training loss: 0.7448 training_acc: 0.5135 val_loss: 0.6946 val_acc: 0.5148\n",
            "#10 Training loss: 0.7278 training_acc: 0.5277 val_loss: 0.6932 val_acc: 0.5546\n",
            "#15 Training loss: 0.7233 training_acc: 0.5226 val_loss: 0.6897 val_acc: 0.5649\n",
            "#20 Training loss: 0.6777 training_acc: 0.5854 val_loss: 0.6734 val_acc: 0.5917\n",
            "#25 Training loss: 0.6434 training_acc: 0.6386 val_loss: 0.6786 val_acc: 0.5748\n",
            "#30 Training loss: 0.5983 training_acc: 0.6887 val_loss: 0.6653 val_acc: 0.6071\n",
            "#35 Training loss: 0.5670 training_acc: 0.7295 val_loss: 0.6536 val_acc: 0.6329\n",
            "#40 Training loss: 0.5124 training_acc: 0.7901 val_loss: 0.6581 val_acc: 0.6273\n",
            "#45 Training loss: 0.4705 training_acc: 0.8362 val_loss: 0.6984 val_acc: 0.5963\n",
            "#50 Training loss: 0.4417 training_acc: 0.8674 val_loss: 0.6595 val_acc: 0.6324\n",
            "#55 Training loss: 0.4138 training_acc: 0.8968 val_loss: 0.6948 val_acc: 0.6015\n",
            "#60 Training loss: 0.3900 training_acc: 0.9210 val_loss: 0.6867 val_acc: 0.6123\n",
            "#65 Training loss: 0.3910 training_acc: 0.9202 val_loss: 0.6917 val_acc: 0.6128\n",
            "#70 Training loss: 0.3630 training_acc: 0.9490 val_loss: 0.6554 val_acc: 0.6465\n",
            "#75 Training loss: 0.3604 training_acc: 0.9518 val_loss: 0.6671 val_acc: 0.6338\n",
            "#80 Training loss: 0.3592 training_acc: 0.9536 val_loss: 0.6609 val_acc: 0.6395\n",
            "#85 Training loss: 0.3577 training_acc: 0.9545 val_loss: 0.6567 val_acc: 0.6479\n",
            "#90 Training loss: 0.3505 training_acc: 0.9621 val_loss: 0.6912 val_acc: 0.6109\n",
            "#95 Training loss: 0.3490 training_acc: 0.9639 val_loss: 0.6668 val_acc: 0.6381\n",
            "#100 Training loss: 0.3431 training_acc: 0.9700 val_loss: 0.6598 val_acc: 0.6423\n"
          ]
        }
      ],
      "source": [
        "hard_training(model, criterion, optimizer, n_epochs=101)"
      ]
    },
    {
      "cell_type": "code",
      "execution_count": null,
      "metadata": {
        "id": "5A3Rr4HsUxQk",
        "outputId": "5ea44efa-be82-4e65-abf0-4bdaf6df2644"
      },
      "outputs": [
        {
          "name": "stdout",
          "output_type": "stream",
          "text": [
            "              precision    recall  f1-score   support\n",
            "\n",
            "         0.0       0.62      0.72      0.67      1067\n",
            "         1.0       0.67      0.56      0.61      1066\n",
            "\n",
            "    accuracy                           0.64      2133\n",
            "   macro avg       0.65      0.64      0.64      2133\n",
            "weighted avg       0.65      0.64      0.64      2133\n",
            "\n"
          ]
        }
      ],
      "source": [
        "GloP_boB(model)"
      ]
    },
    {
      "cell_type": "markdown",
      "metadata": {
        "id": "83AFYxeKUxQk"
      },
      "source": [
        "2.7 Измерить точность на тестовой выборке. Проверить работоспособность модели: придумать небольшой отзыв, прогнать его через модель и вывести номер предсказанного класса (сделать это для явно позитивного и явно негативного отзыва)\n",
        "* Целевое значение accuracy на валидации - 70+%"
      ]
    },
    {
      "cell_type": "code",
      "execution_count": null,
      "metadata": {
        "id": "SdBB1DN5UxQk"
      },
      "outputs": [],
      "source": [
        "def test_review(review):\n",
        "    x = train_dataset.vectorize(review).unsqueeze(0)\n",
        "    variety, predictions = model(x).topk(k=1, dim=1)\n",
        "    variety = variety.cpu().detach().view(-1)\n",
        "    pred_ = predictions.cpu().detach().view(-1)\n",
        "    pred_ = class_encoder_2.inverse_transform(pred_)\n",
        "    out_ = \", \".join([f\"{nat}:{frac:.2f}\" for nat, frac in zip(pred_, variety)])\n",
        "    print(f\"{review} --- {out_}\")"
      ]
    },
    {
      "cell_type": "code",
      "execution_count": null,
      "metadata": {
        "id": "FNUKZPK9UxQk"
      },
      "outputs": [],
      "source": [
        "reviews_ = [\n",
        "    \"The last time I had lunch here, I really liked the soup. Excellent. I'll come again.\",\n",
        "    \"It feels like I dined on frogs. I will not visit this institution again.\"\n",
        "]"
      ]
    },
    {
      "cell_type": "code",
      "execution_count": null,
      "metadata": {
        "id": "m4YqWbzuUxQl",
        "outputId": "1bd00e5a-bc1f-4581-807b-f060d247a9d5"
      },
      "outputs": [
        {
          "name": "stdout",
          "output_type": "stream",
          "text": [
            "['last', 'time', 'lunch', 'really', 'liked', 'soup', 'excellent', 'come'] --- positive:0.60\n",
            "['feel', 'like', 'dined', 'frog', 'visit', 'institution'] --- negative:1.00\n"
          ]
        }
      ],
      "source": [
        "for review in reviews_:\n",
        "     test_review(preprocess(review))"
      ]
    }
  ],
  "metadata": {
    "accelerator": "GPU",
    "colab": {
      "provenance": []
    },
    "kernelspec": {
      "display_name": "Python 3 (ipykernel)",
      "language": "python",
      "name": "python3"
    },
    "language_info": {
      "codemirror_mode": {
        "name": "ipython",
        "version": 3
      },
      "file_extension": ".py",
      "mimetype": "text/x-python",
      "name": "python",
      "nbconvert_exporter": "python",
      "pygments_lexer": "ipython3",
      "version": "3.10.9"
    }
  },
  "nbformat": 4,
  "nbformat_minor": 0
}