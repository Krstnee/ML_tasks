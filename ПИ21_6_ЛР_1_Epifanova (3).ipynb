{
  "nbformat": 4,
  "nbformat_minor": 0,
  "metadata": {
    "colab": {
      "provenance": []
    },
    "kernelspec": {
      "name": "python3",
      "display_name": "Python 3"
    },
    "language_info": {
      "name": "python"
    }
  },
  "cells": [
    {
      "cell_type": "markdown",
      "source": [
        "Устанавливаем библиотеки BeautifulSoup и request для парсинга"
      ],
      "metadata": {
        "id": "ZQi-KhwAr9fd"
      }
    },
    {
      "cell_type": "code",
      "source": [
        "!pip install beautifulsoup4"
      ],
      "metadata": {
        "colab": {
          "base_uri": "https://localhost:8080/"
        },
        "id": "U82hjimdUQP8",
        "outputId": "9ba0fe4a-3916-47b2-f4af-e4e3ae7a08a9"
      },
      "execution_count": null,
      "outputs": [
        {
          "output_type": "stream",
          "name": "stdout",
          "text": [
            "Requirement already satisfied: beautifulsoup4 in /usr/local/lib/python3.10/dist-packages (4.11.2)\n",
            "Requirement already satisfied: soupsieve>1.2 in /usr/local/lib/python3.10/dist-packages (from beautifulsoup4) (2.5)\n"
          ]
        }
      ]
    },
    {
      "cell_type": "code",
      "execution_count": null,
      "metadata": {
        "id": "UyrM_NKjRUJx"
      },
      "outputs": [],
      "source": [
        "from bs4 import BeautifulSoup\n",
        "import requests\n",
        "import csv"
      ]
    },
    {
      "cell_type": "markdown",
      "source": [
        "## **Задание №1 - №2**"
      ],
      "metadata": {
        "id": "VL96FyBu6pH-"
      }
    },
    {
      "cell_type": "markdown",
      "source": [
        "Производится парсинг первых 50 страниц сайта https://www.restoran.ru/msk/opinions/, отбираемые данные:\n",
        "\n",
        "название ресторана (restaurants),  \n",
        "\n",
        "дата отзыва (dates),\n",
        "\n",
        "отзыв (reviews),\n",
        "\n",
        "оценка (scores)."
      ],
      "metadata": {
        "id": "rEA7rSCbQUlE"
      }
    },
    {
      "cell_type": "code",
      "source": [
        "def scrape_restaurant_reviews(num_pages):\n",
        "    restaurant_names = []\n",
        "    review_dates = []\n",
        "    review_scores = []\n",
        "    review_texts = []\n",
        "\n",
        "    for page_num in range(1, num_pages + 1):\n",
        "        url = f'https://www.restoran.ru/msk/opinions/?PAGEN_1={page_num}'\n",
        "        response = requests.get(url)\n",
        "        soup = BeautifulSoup(response.text, 'html.parser')\n",
        "\n",
        "        restaurants = soup.find_all('div', class_='place-name-wrap')\n",
        "        dates = soup.find_all('div', class_='review-date')\n",
        "        scores = soup.find_all('div', class_='place-rating')\n",
        "        reviews = soup.find_all('span', class_='review-text-preview')\n",
        "\n",
        "        for restaurant in restaurants:\n",
        "            restaurant_name = ''.join(char for char in str(restaurant.text) if char.isalpha())\n",
        "            restaurant_names.append(restaurant_name)\n",
        "\n",
        "        review_dates.extend(date.text for date in dates)\n",
        "        review_scores.extend(int(str(score.text)[0]) for score in scores)\n",
        "        review_texts.extend(review.text for review in reviews)\n",
        "\n",
        "    return restaurant_names, review_dates, review_scores, review_texts\n",
        "\n",
        "n = 50\n",
        "restaurants_all, dates_all, score_all, reviews_all = scrape_restaurant_reviews(n)\n"
      ],
      "metadata": {
        "id": "mnAo18I9VKvR"
      },
      "execution_count": null,
      "outputs": []
    },
    {
      "cell_type": "markdown",
      "source": [
        "Записываем данные результата парсинга в CSV"
      ],
      "metadata": {
        "id": "a4R53hl1Qpns"
      }
    },
    {
      "cell_type": "code",
      "source": [
        "with open(\"dataset.csv\", mode=\"w\", encoding='utf-8-sig') as w_file:\n",
        "    file_writer = csv.writer(w_file, delimiter=',', lineterminator=\"\\r\")\n",
        "    file_writer.writerow([\"Restaurant\", \"Review Date\", \"Review\", \"Scope\"])\n",
        "    for i in range(len(restaurants_all)):\n",
        "        file_writer.writerow(\n",
        "            [i, restaurants_all[i], dates_all[i], reviews_all[i], score_all[i]])\n",
        "\n"
      ],
      "metadata": {
        "id": "56iT_C-1-bH4"
      },
      "execution_count": null,
      "outputs": []
    },
    {
      "cell_type": "markdown",
      "source": [
        "## **Задание №3**"
      ],
      "metadata": {
        "id": "cTS-8JJQ6xzI"
      }
    },
    {
      "cell_type": "code",
      "source": [
        "import pandas as pd\n",
        "import matplotlib as mpl\n",
        "import matplotlib.pyplot as plt"
      ],
      "metadata": {
        "id": "fSHBHL7d_AdP"
      },
      "execution_count": null,
      "outputs": []
    },
    {
      "cell_type": "code",
      "source": [
        "df = pd.read_csv('dataset.csv', index_col=0)"
      ],
      "metadata": {
        "id": "d7Pf4BMy_cId"
      },
      "execution_count": null,
      "outputs": []
    },
    {
      "cell_type": "code",
      "source": [
        "df.head()"
      ],
      "metadata": {
        "colab": {
          "base_uri": "https://localhost:8080/",
          "height": 206
        },
        "id": "3lcI3UhCiXJs",
        "outputId": "2668ba75-2889-4f44-a36f-5ce35cbbaeef"
      },
      "execution_count": null,
      "outputs": [
        {
          "output_type": "execute_result",
          "data": {
            "text/plain": [
              "                                          Restaurant       Review Date  \\\n",
              "0                           РесторанLALALANDЛаЛаЛэнд  22 сентября 2023   \n",
              "1                           РесторанУрожайиминиотель  21 сентября 2023   \n",
              "2                                  РесторанWillTaste  20 сентября 2023   \n",
              "Быстро и безумно комфортно                         4               NaN   \n",
              "3                                  РесторанBAMBOOBAR  20 сентября 2023   \n",
              "\n",
              "                                                                       Review  \\\n",
              "0                           Ударились в 90-е? Ну что вы придумали? Покажит...   \n",
              "1                           В ресторане \"Урожай\" очень уютно. Он оформлен ...   \n",
              "2                                                                      Вкусно   \n",
              "Быстро и безумно комфортно                                                NaN   \n",
              "3                           Приезжала в гости к друзьям в Москве и первым ...   \n",
              "\n",
              "                            Scope  \n",
              "0                             4.0  \n",
              "1                             5.0  \n",
              "2                             NaN  \n",
              "Быстро и безумно комфортно    NaN  \n",
              "3                             4.0  "
            ],
            "text/html": [
              "\n",
              "  <div id=\"df-4fd476f9-eb39-40b0-8610-df9a29a6c1f6\" class=\"colab-df-container\">\n",
              "    <div>\n",
              "<style scoped>\n",
              "    .dataframe tbody tr th:only-of-type {\n",
              "        vertical-align: middle;\n",
              "    }\n",
              "\n",
              "    .dataframe tbody tr th {\n",
              "        vertical-align: top;\n",
              "    }\n",
              "\n",
              "    .dataframe thead th {\n",
              "        text-align: right;\n",
              "    }\n",
              "</style>\n",
              "<table border=\"1\" class=\"dataframe\">\n",
              "  <thead>\n",
              "    <tr style=\"text-align: right;\">\n",
              "      <th></th>\n",
              "      <th>Restaurant</th>\n",
              "      <th>Review Date</th>\n",
              "      <th>Review</th>\n",
              "      <th>Scope</th>\n",
              "    </tr>\n",
              "  </thead>\n",
              "  <tbody>\n",
              "    <tr>\n",
              "      <th>0</th>\n",
              "      <td>РесторанLALALANDЛаЛаЛэнд</td>\n",
              "      <td>22 сентября 2023</td>\n",
              "      <td>Ударились в 90-е? Ну что вы придумали? Покажит...</td>\n",
              "      <td>4.0</td>\n",
              "    </tr>\n",
              "    <tr>\n",
              "      <th>1</th>\n",
              "      <td>РесторанУрожайиминиотель</td>\n",
              "      <td>21 сентября 2023</td>\n",
              "      <td>В ресторане \"Урожай\" очень уютно. Он оформлен ...</td>\n",
              "      <td>5.0</td>\n",
              "    </tr>\n",
              "    <tr>\n",
              "      <th>2</th>\n",
              "      <td>РесторанWillTaste</td>\n",
              "      <td>20 сентября 2023</td>\n",
              "      <td>Вкусно</td>\n",
              "      <td>NaN</td>\n",
              "    </tr>\n",
              "    <tr>\n",
              "      <th>Быстро и безумно комфортно</th>\n",
              "      <td>4</td>\n",
              "      <td>NaN</td>\n",
              "      <td>NaN</td>\n",
              "      <td>NaN</td>\n",
              "    </tr>\n",
              "    <tr>\n",
              "      <th>3</th>\n",
              "      <td>РесторанBAMBOOBAR</td>\n",
              "      <td>20 сентября 2023</td>\n",
              "      <td>Приезжала в гости к друзьям в Москве и первым ...</td>\n",
              "      <td>4.0</td>\n",
              "    </tr>\n",
              "  </tbody>\n",
              "</table>\n",
              "</div>\n",
              "    <div class=\"colab-df-buttons\">\n",
              "\n",
              "  <div class=\"colab-df-container\">\n",
              "    <button class=\"colab-df-convert\" onclick=\"convertToInteractive('df-4fd476f9-eb39-40b0-8610-df9a29a6c1f6')\"\n",
              "            title=\"Convert this dataframe to an interactive table.\"\n",
              "            style=\"display:none;\">\n",
              "\n",
              "  <svg xmlns=\"http://www.w3.org/2000/svg\" height=\"24px\" viewBox=\"0 -960 960 960\">\n",
              "    <path d=\"M120-120v-720h720v720H120Zm60-500h600v-160H180v160Zm220 220h160v-160H400v160Zm0 220h160v-160H400v160ZM180-400h160v-160H180v160Zm440 0h160v-160H620v160ZM180-180h160v-160H180v160Zm440 0h160v-160H620v160Z\"/>\n",
              "  </svg>\n",
              "    </button>\n",
              "\n",
              "  <style>\n",
              "    .colab-df-container {\n",
              "      display:flex;\n",
              "      gap: 12px;\n",
              "    }\n",
              "\n",
              "    .colab-df-convert {\n",
              "      background-color: #E8F0FE;\n",
              "      border: none;\n",
              "      border-radius: 50%;\n",
              "      cursor: pointer;\n",
              "      display: none;\n",
              "      fill: #1967D2;\n",
              "      height: 32px;\n",
              "      padding: 0 0 0 0;\n",
              "      width: 32px;\n",
              "    }\n",
              "\n",
              "    .colab-df-convert:hover {\n",
              "      background-color: #E2EBFA;\n",
              "      box-shadow: 0px 1px 2px rgba(60, 64, 67, 0.3), 0px 1px 3px 1px rgba(60, 64, 67, 0.15);\n",
              "      fill: #174EA6;\n",
              "    }\n",
              "\n",
              "    .colab-df-buttons div {\n",
              "      margin-bottom: 4px;\n",
              "    }\n",
              "\n",
              "    [theme=dark] .colab-df-convert {\n",
              "      background-color: #3B4455;\n",
              "      fill: #D2E3FC;\n",
              "    }\n",
              "\n",
              "    [theme=dark] .colab-df-convert:hover {\n",
              "      background-color: #434B5C;\n",
              "      box-shadow: 0px 1px 3px 1px rgba(0, 0, 0, 0.15);\n",
              "      filter: drop-shadow(0px 1px 2px rgba(0, 0, 0, 0.3));\n",
              "      fill: #FFFFFF;\n",
              "    }\n",
              "  </style>\n",
              "\n",
              "    <script>\n",
              "      const buttonEl =\n",
              "        document.querySelector('#df-4fd476f9-eb39-40b0-8610-df9a29a6c1f6 button.colab-df-convert');\n",
              "      buttonEl.style.display =\n",
              "        google.colab.kernel.accessAllowed ? 'block' : 'none';\n",
              "\n",
              "      async function convertToInteractive(key) {\n",
              "        const element = document.querySelector('#df-4fd476f9-eb39-40b0-8610-df9a29a6c1f6');\n",
              "        const dataTable =\n",
              "          await google.colab.kernel.invokeFunction('convertToInteractive',\n",
              "                                                    [key], {});\n",
              "        if (!dataTable) return;\n",
              "\n",
              "        const docLinkHtml = 'Like what you see? Visit the ' +\n",
              "          '<a target=\"_blank\" href=https://colab.research.google.com/notebooks/data_table.ipynb>data table notebook</a>'\n",
              "          + ' to learn more about interactive tables.';\n",
              "        element.innerHTML = '';\n",
              "        dataTable['output_type'] = 'display_data';\n",
              "        await google.colab.output.renderOutput(dataTable, element);\n",
              "        const docLink = document.createElement('div');\n",
              "        docLink.innerHTML = docLinkHtml;\n",
              "        element.appendChild(docLink);\n",
              "      }\n",
              "    </script>\n",
              "  </div>\n",
              "\n",
              "\n",
              "<div id=\"df-e3b51af5-8279-416c-82ad-3d05c40b31f9\">\n",
              "  <button class=\"colab-df-quickchart\" onclick=\"quickchart('df-e3b51af5-8279-416c-82ad-3d05c40b31f9')\"\n",
              "            title=\"Suggest charts.\"\n",
              "            style=\"display:none;\">\n",
              "\n",
              "<svg xmlns=\"http://www.w3.org/2000/svg\" height=\"24px\"viewBox=\"0 0 24 24\"\n",
              "     width=\"24px\">\n",
              "    <g>\n",
              "        <path d=\"M19 3H5c-1.1 0-2 .9-2 2v14c0 1.1.9 2 2 2h14c1.1 0 2-.9 2-2V5c0-1.1-.9-2-2-2zM9 17H7v-7h2v7zm4 0h-2V7h2v10zm4 0h-2v-4h2v4z\"/>\n",
              "    </g>\n",
              "</svg>\n",
              "  </button>\n",
              "\n",
              "<style>\n",
              "  .colab-df-quickchart {\n",
              "      --bg-color: #E8F0FE;\n",
              "      --fill-color: #1967D2;\n",
              "      --hover-bg-color: #E2EBFA;\n",
              "      --hover-fill-color: #174EA6;\n",
              "      --disabled-fill-color: #AAA;\n",
              "      --disabled-bg-color: #DDD;\n",
              "  }\n",
              "\n",
              "  [theme=dark] .colab-df-quickchart {\n",
              "      --bg-color: #3B4455;\n",
              "      --fill-color: #D2E3FC;\n",
              "      --hover-bg-color: #434B5C;\n",
              "      --hover-fill-color: #FFFFFF;\n",
              "      --disabled-bg-color: #3B4455;\n",
              "      --disabled-fill-color: #666;\n",
              "  }\n",
              "\n",
              "  .colab-df-quickchart {\n",
              "    background-color: var(--bg-color);\n",
              "    border: none;\n",
              "    border-radius: 50%;\n",
              "    cursor: pointer;\n",
              "    display: none;\n",
              "    fill: var(--fill-color);\n",
              "    height: 32px;\n",
              "    padding: 0;\n",
              "    width: 32px;\n",
              "  }\n",
              "\n",
              "  .colab-df-quickchart:hover {\n",
              "    background-color: var(--hover-bg-color);\n",
              "    box-shadow: 0 1px 2px rgba(60, 64, 67, 0.3), 0 1px 3px 1px rgba(60, 64, 67, 0.15);\n",
              "    fill: var(--button-hover-fill-color);\n",
              "  }\n",
              "\n",
              "  .colab-df-quickchart-complete:disabled,\n",
              "  .colab-df-quickchart-complete:disabled:hover {\n",
              "    background-color: var(--disabled-bg-color);\n",
              "    fill: var(--disabled-fill-color);\n",
              "    box-shadow: none;\n",
              "  }\n",
              "\n",
              "  .colab-df-spinner {\n",
              "    border: 2px solid var(--fill-color);\n",
              "    border-color: transparent;\n",
              "    border-bottom-color: var(--fill-color);\n",
              "    animation:\n",
              "      spin 1s steps(1) infinite;\n",
              "  }\n",
              "\n",
              "  @keyframes spin {\n",
              "    0% {\n",
              "      border-color: transparent;\n",
              "      border-bottom-color: var(--fill-color);\n",
              "      border-left-color: var(--fill-color);\n",
              "    }\n",
              "    20% {\n",
              "      border-color: transparent;\n",
              "      border-left-color: var(--fill-color);\n",
              "      border-top-color: var(--fill-color);\n",
              "    }\n",
              "    30% {\n",
              "      border-color: transparent;\n",
              "      border-left-color: var(--fill-color);\n",
              "      border-top-color: var(--fill-color);\n",
              "      border-right-color: var(--fill-color);\n",
              "    }\n",
              "    40% {\n",
              "      border-color: transparent;\n",
              "      border-right-color: var(--fill-color);\n",
              "      border-top-color: var(--fill-color);\n",
              "    }\n",
              "    60% {\n",
              "      border-color: transparent;\n",
              "      border-right-color: var(--fill-color);\n",
              "    }\n",
              "    80% {\n",
              "      border-color: transparent;\n",
              "      border-right-color: var(--fill-color);\n",
              "      border-bottom-color: var(--fill-color);\n",
              "    }\n",
              "    90% {\n",
              "      border-color: transparent;\n",
              "      border-bottom-color: var(--fill-color);\n",
              "    }\n",
              "  }\n",
              "</style>\n",
              "\n",
              "  <script>\n",
              "    async function quickchart(key) {\n",
              "      const quickchartButtonEl =\n",
              "        document.querySelector('#' + key + ' button');\n",
              "      quickchartButtonEl.disabled = true;  // To prevent multiple clicks.\n",
              "      quickchartButtonEl.classList.add('colab-df-spinner');\n",
              "      try {\n",
              "        const charts = await google.colab.kernel.invokeFunction(\n",
              "            'suggestCharts', [key], {});\n",
              "      } catch (error) {\n",
              "        console.error('Error during call to suggestCharts:', error);\n",
              "      }\n",
              "      quickchartButtonEl.classList.remove('colab-df-spinner');\n",
              "      quickchartButtonEl.classList.add('colab-df-quickchart-complete');\n",
              "    }\n",
              "    (() => {\n",
              "      let quickchartButtonEl =\n",
              "        document.querySelector('#df-e3b51af5-8279-416c-82ad-3d05c40b31f9 button');\n",
              "      quickchartButtonEl.style.display =\n",
              "        google.colab.kernel.accessAllowed ? 'block' : 'none';\n",
              "    })();\n",
              "  </script>\n",
              "</div>\n",
              "    </div>\n",
              "  </div>\n"
            ]
          },
          "metadata": {},
          "execution_count": 51
        }
      ]
    },
    {
      "cell_type": "markdown",
      "source": [],
      "metadata": {
        "id": "My21rbGhiWiW"
      }
    },
    {
      "cell_type": "markdown",
      "source": [
        "Топ-5 ресторанов по кол-ву отзывов."
      ],
      "metadata": {
        "id": "XEhw5SOWQx9G"
      }
    },
    {
      "cell_type": "code",
      "source": [
        "top_restaurants = df['Restaurant'].value_counts(ascending=False).head(5)\n",
        "ax = top_restaurants.plot(kind='barh')\n",
        "ax.set_xscale(\"linear\")\n",
        "plt.xlabel('Review Count')\n",
        "plt.ylabel('Restaurant')\n",
        "plt.title('Top 5 Restaurants by Review Count')\n",
        "plt.show()"
      ],
      "metadata": {
        "colab": {
          "base_uri": "https://localhost:8080/",
          "height": 472
        },
        "id": "3n_qWNUlBiJ-",
        "outputId": "9aa5390b-5bc2-48cc-aae2-f5ed12354a38"
      },
      "execution_count": null,
      "outputs": [
        {
          "output_type": "display_data",
          "data": {
            "text/plain": [
              "<Figure size 640x480 with 1 Axes>"
            ],
            "image/png": "[encoded data removed]"
          },
          "metadata": {}
        }
      ]
    },
    {
      "cell_type": "markdown",
      "source": [
        "Топ-5 ресторанов с самой высокой средней оценкой"
      ],
      "metadata": {
        "id": "I82lEvzdQ57N"
      }
    },
    {
      "cell_type": "code",
      "source": [
        "top_restaurants_by_score = df.groupby(['Restaurant'])['Scope'].mean().sort_values(ascending=False).head(5)\n",
        "\n",
        "top_restaurants_by_score"
      ],
      "metadata": {
        "id": "266pEp845VEc",
        "colab": {
          "base_uri": "https://localhost:8080/"
        },
        "outputId": "28151440-63e8-4e87-f853-5d1949c6b436"
      },
      "execution_count": null,
      "outputs": [
        {
          "output_type": "execute_result",
          "data": {
            "text/plain": [
              "Restaurant\n",
              "БанкетныйзалChaletШале                   5.0\n",
              "РесторанCafeImperial                     5.0\n",
              "РесторанLureMe                           5.0\n",
              "РесторанLaDeliziaЛаДелиция               5.0\n",
              "РесторанJoonAsiainRestaurantBarзакрыт    5.0\n",
              "Name: Scope, dtype: float64"
            ]
          },
          "metadata": {},
          "execution_count": 54
        }
      ]
    },
    {
      "cell_type": "markdown",
      "source": [
        "Распределение по количеству оценок:"
      ],
      "metadata": {
        "id": "IjdkBUAQQ-t5"
      }
    },
    {
      "cell_type": "code",
      "source": [
        "score_counts = df['Scope'].value_counts(ascending=False)\n",
        "score_counts.plot(kind='pie', autopct='%1.0f%%')\n",
        "plt.title('Distribution of Review Scores')\n",
        "plt.ylabel('')\n",
        "plt.show()"
      ],
      "metadata": {
        "colab": {
          "base_uri": "https://localhost:8080/",
          "height": 428
        },
        "outputId": "d95e70c1-b784-4e90-851f-903c95ebf59e",
        "id": "xy3rN8Ea438b"
      },
      "execution_count": null,
      "outputs": [
        {
          "output_type": "display_data",
          "data": {
            "text/plain": [
              "<Figure size 640x480 with 1 Axes>"
            ],
            "image/png": "[encoded data removed]"
          },
          "metadata": {}
        }
      ]
    },
    {
      "cell_type": "markdown",
      "source": [
        "Класс 4 оказался мажоритарным, в то время как классы 1, 2 и 3 - миноритарными"
      ],
      "metadata": {
        "id": "3YCdrGtaIxn9"
      }
    },
    {
      "cell_type": "markdown",
      "source": [
        "## **Задание №4**"
      ],
      "metadata": {
        "id": "1ZlU41Ub8JBi"
      }
    },
    {
      "cell_type": "markdown",
      "source": [
        "Сбалансированная выборка:"
      ],
      "metadata": {
        "id": "m6VShITARDTe"
      }
    },
    {
      "cell_type": "code",
      "source": [
        "class_1_data = df[df['Scope'] == 1]\n",
        "class_2_data = df[df['Scope'] == 2]\n",
        "class_3_data = df[df['Scope'] == 3]\n",
        "class_4_data = df[df['Scope'] == 4]\n",
        "class_5_data = df[df['Scope'] == 5]\n",
        "\n",
        "min_class_length = len(class_5_data)\n",
        "\n",
        "undersampled_class_4_data = class_4_data.sample(n=min_class_length, replace=True, random_state=42)\n",
        "undersampled_class_5_data = class_5_data.sample(n=min_class_length, replace=True, random_state=42)\n",
        "\n",
        "oversampled_class_1_data = class_1_data.sample(n=min_class_length, replace=True, random_state=42)\n",
        "oversampled_class_2_data = class_2_data.sample(n=min_class_length, replace=True, random_state=42)\n",
        "oversampled_class_3_data = class_3_data.sample(n=min_class_length, replace=True, random_state=42)\n",
        "\n",
        "balanced_df = pd.concat([oversampled_class_1_data, oversampled_class_2_data, oversampled_class_3_data,\n",
        "                         undersampled_class_4_data, undersampled_class_5_data])\n",
        "\n",
        "\n"
      ],
      "metadata": {
        "id": "RZXQGIDuLke8"
      },
      "execution_count": null,
      "outputs": []
    },
    {
      "cell_type": "code",
      "source": [
        "score_distribution = balanced_df['Scope'].value_counts(ascending=False)\n",
        "score_distribution.plot(kind='pie', autopct='%1.0f%%')\n",
        "plt.title('Distribution of Review Scores in Balanced Dataset')\n",
        "plt.ylabel('')\n",
        "plt.show()\n"
      ],
      "metadata": {
        "colab": {
          "base_uri": "https://localhost:8080/",
          "height": 428
        },
        "id": "j0Xbda_yMefg",
        "outputId": "051b2415-4e44-4177-dd0c-cbdbd8f621af"
      },
      "execution_count": null,
      "outputs": [
        {
          "output_type": "display_data",
          "data": {
            "text/plain": [
              "<Figure size 640x480 with 1 Axes>"
            ],
            "image/png": "[encoded data removed]"
          },
          "metadata": {}
        }
      ]
    },
    {
      "cell_type": "code",
      "source": [
        "balanced_df.drop(columns=[\"Restaurant\", \"Review Date\"], inplace=True)\n",
        "\n",
        "\n"
      ],
      "metadata": {
        "id": "PWxVs9g6ZrGC"
      },
      "execution_count": null,
      "outputs": []
    },
    {
      "cell_type": "markdown",
      "source": [
        "## **Задание №5**"
      ],
      "metadata": {
        "id": "9QZr4LntOZav"
      }
    },
    {
      "cell_type": "code",
      "source": [
        "from sklearn.neighbors import KNeighborsClassifier\n",
        "from sklearn.feature_extraction.text import TfidfVectorizer\n",
        "from sklearn.model_selection import train_test_split\n",
        "from sklearn.linear_model import LogisticRegression\n",
        "from sklearn.metrics import accuracy_score\n",
        "from sklearn.linear_model import SGDClassifier\n",
        "from sklearn import svm\n",
        "from sklearn.ensemble import RandomForestClassifier\n",
        "\n",
        "X_train_text, X_test_text, y_train_labels, y_test_labels = train_test_split(balanced_df['Review'], balanced_df['Scope'], test_size=0.2, random_state=42)\n",
        "\n",
        "tfidf_vectorizer = TfidfVectorizer(max_features=10000)\n",
        "\n",
        "X_train_tfidf = tfidf_vectorizer.fit_transform(X_train_text)\n",
        "X_test_tfidf = tfidf_vectorizer.transform(X_test_text)\n"
      ],
      "metadata": {
        "id": "4wQmdnpkRTjg"
      },
      "execution_count": null,
      "outputs": []
    },
    {
      "cell_type": "code",
      "source": [
        "itog = {}"
      ],
      "metadata": {
        "id": "8XPsbZH5uGUj"
      },
      "execution_count": null,
      "outputs": []
    },
    {
      "cell_type": "markdown",
      "source": [
        "**Логистическая регрессия**"
      ],
      "metadata": {
        "id": "cY1Fk10_s2xX"
      }
    },
    {
      "cell_type": "code",
      "source": [
        "%%time\n",
        "logistic_regression_classifier = LogisticRegression()\n",
        "\n",
        "logistic_regression_classifier.fit(X_train_tfidf, y_train_labels)\n",
        "\n",
        "y_pred_labels = logistic_regression_classifier.predict(X_test_tfidf)\n",
        "\n",
        "accuracy = accuracy_score(y_test_labels, y_pred_labels)\n",
        "\n",
        "itog['LogisticRegression'] = round(accuracy, 2)\n"
      ],
      "metadata": {
        "colab": {
          "base_uri": "https://localhost:8080/"
        },
        "id": "6rUZruXURvAJ",
        "outputId": "3c3d8e86-aaa6-4c97-d6e4-57e824d9d3d4"
      },
      "execution_count": null,
      "outputs": [
        {
          "output_type": "stream",
          "name": "stdout",
          "text": [
            "CPU times: user 191 ms, sys: 202 ms, total: 393 ms\n",
            "Wall time: 235 ms\n"
          ]
        }
      ]
    },
    {
      "cell_type": "code",
      "source": [
        "from sklearn.metrics import confusion_matrix\n",
        "import pandas as pd\n",
        "\n",
        "y_test_labels = pd.Series(y_test_labels, name='Actual').reset_index(drop=True)\n",
        "y_pred_labels = pd.Series(y_pred_labels, name='Predicted')\n",
        "confusion_matrix_df = pd.crosstab(y_test_labels, y_pred_labels)\n",
        "\n",
        "print(confusion_matrix_df)\n"
      ],
      "metadata": {
        "colab": {
          "base_uri": "https://localhost:8080/"
        },
        "id": "7AY-lBuuViYq",
        "outputId": "45e7c399-1d26-40b9-84f4-45c043e4315d"
      },
      "execution_count": null,
      "outputs": [
        {
          "output_type": "stream",
          "name": "stdout",
          "text": [
            "Predicted  1.0  2.0  3.0  4.0  5.0\n",
            "Actual                            \n",
            "1.0         46    0    0    0    0\n",
            "2.0          0   42    0    5    0\n",
            "3.0          0    0   42    4    0\n",
            "4.0          0    3    0   25    7\n",
            "5.0          0    1    0    9   35\n"
          ]
        }
      ]
    },
    {
      "cell_type": "markdown",
      "source": [
        "**Метод N ближайших соседей**"
      ],
      "metadata": {
        "id": "1Pk4QVuFtCnh"
      }
    },
    {
      "cell_type": "code",
      "source": [
        "%%time\n",
        "k_neighbors_classifier = KNeighborsClassifier()\n",
        "\n",
        "k_neighbors_classifier.fit(X_train_tfidf, y_train_labels)\n",
        "\n",
        "y_pred_labels = k_neighbors_classifier.predict(X_test_tfidf)\n",
        "\n",
        "accuracy = accuracy_score(y_test_labels, y_pred_labels)\n",
        "print(\"Accuracy:\", accuracy)\n",
        "\n",
        "itog['KNeighborsClassifier'] = round(accuracy, 2)\n"
      ],
      "metadata": {
        "colab": {
          "base_uri": "https://localhost:8080/"
        },
        "id": "1_A6efhqSRjR",
        "outputId": "ffaf72d6-276f-4d8b-fe5a-d3804159e0f8"
      },
      "execution_count": null,
      "outputs": [
        {
          "output_type": "stream",
          "name": "stdout",
          "text": [
            "Accuracy: 0.6118721461187214\n",
            "CPU times: user 324 ms, sys: 5.7 ms, total: 330 ms\n",
            "Wall time: 294 ms\n"
          ]
        }
      ]
    },
    {
      "cell_type": "code",
      "source": [
        "actual_labels = pd.Series(y_test_labels, name='Actual').reset_index(drop=True)\n",
        "predicted_labels = pd.Series(y_pred_labels, name='Predicted')\n",
        "confusion_matrix_df = pd.crosstab(actual_labels, predicted_labels)\n",
        "\n",
        "print(confusion_matrix_df)\n"
      ],
      "metadata": {
        "colab": {
          "base_uri": "https://localhost:8080/"
        },
        "id": "AjDkiaOmdv-T",
        "outputId": "cd2c1e0c-099d-4292-f225-dbbcec6301d8"
      },
      "execution_count": null,
      "outputs": [
        {
          "output_type": "stream",
          "name": "stdout",
          "text": [
            "Predicted  1.0  2.0  3.0  4.0  5.0\n",
            "Actual                            \n",
            "1.0         46    0    0    0    0\n",
            "2.0          2   28    3   11    3\n",
            "3.0          1    2   35    7    1\n",
            "4.0          1    7   10    8    9\n",
            "5.0          4    8    2   14   17\n"
          ]
        }
      ]
    },
    {
      "cell_type": "markdown",
      "source": [
        "**SVC**"
      ],
      "metadata": {
        "id": "yMccu54ttKrf"
      }
    },
    {
      "cell_type": "code",
      "source": [
        "%%time\n",
        "support_vector_classifier = svm.SVC()\n",
        "\n",
        "support_vector_classifier.fit(X_train_tfidf, y_train_labels)\n",
        "\n",
        "y_pred_labels = support_vector_classifier.predict(X_test_tfidf)\n",
        "\n",
        "accuracy = accuracy_score(y_test_labels, y_pred_labels)\n",
        "print(\"Accuracy:\", accuracy)\n",
        "\n",
        "itog['SVC'] = round(accuracy, 2)\n"
      ],
      "metadata": {
        "colab": {
          "base_uri": "https://localhost:8080/"
        },
        "id": "m31sUd2GS-Wb",
        "outputId": "05111018-ea4a-4ce6-cf56-ccfcfd8b6b21"
      },
      "execution_count": null,
      "outputs": [
        {
          "output_type": "stream",
          "name": "stdout",
          "text": [
            "Accuracy: 0.8447488584474886\n",
            "CPU times: user 281 ms, sys: 456 µs, total: 282 ms\n",
            "Wall time: 302 ms\n"
          ]
        }
      ]
    },
    {
      "cell_type": "code",
      "source": [
        "actual_labels = pd.Series(y_test_labels, name='Actual').reset_index(drop=True)\n",
        "predicted_labels = pd.Series(y_pred_labels, name='Predicted')\n",
        "confusion_matrix_df = pd.crosstab(actual_labels, predicted_labels)\n",
        "\n",
        "print(confusion_matrix_df)\n"
      ],
      "metadata": {
        "colab": {
          "base_uri": "https://localhost:8080/"
        },
        "id": "SQxZVorPdw8f",
        "outputId": "df3fdaa9-ef8d-44d5-b389-09caba46b675"
      },
      "execution_count": null,
      "outputs": [
        {
          "output_type": "stream",
          "name": "stdout",
          "text": [
            "Predicted  1.0  2.0  3.0  4.0  5.0\n",
            "Actual                            \n",
            "1.0         46    0    0    0    0\n",
            "2.0          0   37    0   10    0\n",
            "3.0          0    0   41    5    0\n",
            "4.0          0    1    0   30    4\n",
            "5.0          0    0    0   14   31\n"
          ]
        }
      ]
    },
    {
      "cell_type": "markdown",
      "source": [
        "**Случайный Лес**\n"
      ],
      "metadata": {
        "id": "HpoEa2yKtRQd"
      }
    },
    {
      "cell_type": "code",
      "source": [
        "%%time\n",
        "random_forest_classifier = RandomForestClassifier()\n",
        "random_forest_classifier.fit(X_train_tfidf, y_train_labels)\n",
        "\n",
        "y_pred_labels = random_forest_classifier.predict(X_test_tfidf)\n",
        "accuracy = accuracy_score(y_test_labels, y_pred_labels)\n",
        "print(\"Accuracy:\", accuracy)\n",
        "\n",
        "itog['RandomForestClassifier'] = round(accuracy, 2)\n",
        "\n"
      ],
      "metadata": {
        "colab": {
          "base_uri": "https://localhost:8080/"
        },
        "id": "-KxxeJryUS3t",
        "outputId": "5c516b1f-a8a7-4184-d3d0-1b1a2bdaa501"
      },
      "execution_count": null,
      "outputs": [
        {
          "output_type": "stream",
          "name": "stdout",
          "text": [
            "Accuracy: 0.863013698630137\n",
            "CPU times: user 792 ms, sys: 2.71 ms, total: 794 ms\n",
            "Wall time: 870 ms\n"
          ]
        }
      ]
    },
    {
      "cell_type": "code",
      "source": [
        "actual_labels_series = pd.Series(y_test_labels, name='Actual').reset_index(drop=True)\n",
        "predicted_labels_series = pd.Series(y_pred_labels, name='Predicted')\n",
        "confusion_matrix_df = pd.crosstab(actual_labels_series, predicted_labels_series)\n",
        "\n",
        "print(confusion_matrix_df)\n"
      ],
      "metadata": {
        "colab": {
          "base_uri": "https://localhost:8080/"
        },
        "id": "FfWzqWqBdxkH",
        "outputId": "a48547bb-2172-47d4-c0bc-e0cb7bfdedd9"
      },
      "execution_count": null,
      "outputs": [
        {
          "output_type": "stream",
          "name": "stdout",
          "text": [
            "Predicted  1.0  2.0  3.0  4.0  5.0\n",
            "Actual                            \n",
            "1.0         46    0    0    0    0\n",
            "2.0          0   42    0    2    3\n",
            "3.0          0    2   41    3    0\n",
            "4.0          0    2    1   27    5\n",
            "5.0          0    1    1   10   33\n"
          ]
        }
      ]
    },
    {
      "cell_type": "markdown",
      "source": [
        "Выводим точность каждой использованной модели.\n",
        "\n",
        "\n",
        "**Наилучший показатель у метода SVC**\n",
        "\n",
        "**Худший метод - N ближайших соседей**"
      ],
      "metadata": {
        "id": "BR1l6qLT0dtq"
      }
    },
    {
      "cell_type": "code",
      "source": [
        "for key, value in itog.items():\n",
        "  print(key, value)"
      ],
      "metadata": {
        "colab": {
          "base_uri": "https://localhost:8080/"
        },
        "id": "Kf3nsoH1uxjC",
        "outputId": "a794d369-b639-49c1-ba69-c5be738719d2"
      },
      "execution_count": null,
      "outputs": [
        {
          "output_type": "stream",
          "name": "stdout",
          "text": [
            "LogisticRegression 0.87\n",
            "KNeighborsClassifier 0.61\n",
            "SVC 0.84\n",
            "RandomForestClassifier 0.86\n"
          ]
        }
      ]
    },
    {
      "cell_type": "code",
      "source": [
        "from sklearn.metrics import classification_report\n",
        "target_labels = ['1', '2', '3', '4', '5']\n",
        "print(classification_report(actual_labels_series, predicted_labels_series, target_names=target_labels))\n"
      ],
      "metadata": {
        "colab": {
          "base_uri": "https://localhost:8080/"
        },
        "id": "0OW2iz2tzDT3",
        "outputId": "752ceee9-b903-4a8e-f677-2af480bfcbf3"
      },
      "execution_count": null,
      "outputs": [
        {
          "output_type": "stream",
          "name": "stdout",
          "text": [
            "              precision    recall  f1-score   support\n",
            "\n",
            "           1       1.00      1.00      1.00        46\n",
            "           2       0.89      0.89      0.89        47\n",
            "           3       0.95      0.89      0.92        46\n",
            "           4       0.64      0.77      0.70        35\n",
            "           5       0.80      0.73      0.77        45\n",
            "\n",
            "    accuracy                           0.86       219\n",
            "   macro avg       0.86      0.86      0.86       219\n",
            "weighted avg       0.87      0.86      0.87       219\n",
            "\n"
          ]
        }
      ]
    },
    {
      "cell_type": "markdown",
      "source": [
        "**Вывод**:\n",
        "\n",
        "Для данной модели класс 1 наиболее оптимален, в то время как наихудшие результаты дают классы 4 и 5"
      ],
      "metadata": {
        "id": "msxdAcGnz4L5"
      }
    }
  ]
}